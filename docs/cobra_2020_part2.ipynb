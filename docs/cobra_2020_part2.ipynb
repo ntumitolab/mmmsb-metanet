{
 "cells": [
  {
   "cell_type": "markdown",
   "metadata": {},
   "source": [
    "# COBRA (part2)"
   ]
  },
  {
   "cell_type": "code",
   "execution_count": null,
   "metadata": {},
   "outputs": [],
   "source": [
    "import cobra\n",
    "from cobra.test import create_test_model\n",
    "from cobra.flux_analysis import pfba\n",
    "from cobra.flux_analysis import flux_variability_analysis as fva\n",
    "\n",
    "import matplotlib.pyplot as plt\n",
    "import seaborn as sns"
   ]
  },
  {
   "cell_type": "code",
   "execution_count": null,
   "metadata": {},
   "outputs": [],
   "source": [
    "model = create_test_model(\"textbook\")\n",
    "iJO1366 = create_test_model(\"ecoli\")"
   ]
  },
  {
   "cell_type": "markdown",
   "metadata": {},
   "source": [
    "## loopless FVA"
   ]
  },
  {
   "cell_type": "code",
   "execution_count": null,
   "metadata": {},
   "outputs": [],
   "source": [
    "loop_reactions = [model.reactions.FRD7, model.reactions.SUCDi]\n",
    "fva(model, reaction_list=loop_reactions, loopless=False)"
   ]
  },
  {
   "cell_type": "code",
   "execution_count": null,
   "metadata": {},
   "outputs": [],
   "source": [
    "fva(model, reaction_list=loop_reactions, loopless=True)"
   ]
  },
  {
   "cell_type": "code",
   "execution_count": null,
   "metadata": {},
   "outputs": [],
   "source": [
    "# the pfba result is loopless\n",
    "pfba(model, reactions=loop_reactions)"
   ]
  },
  {
   "cell_type": "markdown",
   "metadata": {},
   "source": [
    "## sampling"
   ]
  },
  {
   "cell_type": "code",
   "execution_count": null,
   "metadata": {},
   "outputs": [],
   "source": [
    "from cobra.sampling.sampling import sample\n",
    "\n",
    "sample_sol = sample(model, n=500, method=\"achr\", seed=42)\n",
    "sample_sol"
   ]
  },
  {
   "cell_type": "code",
   "execution_count": null,
   "metadata": {},
   "outputs": [],
   "source": [
    "sns.displot(sample_sol[\"ACALD\"], kde=True)"
   ]
  },
  {
   "cell_type": "code",
   "execution_count": null,
   "metadata": {},
   "outputs": [],
   "source": [
    "sns.set(style=\"white\")\n",
    "f, ax = plt.subplots(figsize=(22, 18))\n",
    "sns.heatmap(sample_sol.loc[:, (sample_sol != 0).all(axis=0)].corr(), cmap=\"YlGnBu\", center=0, square=True, linewidths=.1, cbar_kws={\"shrink\": .5})"
   ]
  },
  {
   "cell_type": "markdown",
   "metadata": {},
   "source": [
    "## Gene and reaction essentiality"
   ]
  },
  {
   "cell_type": "code",
   "execution_count": null,
   "metadata": {},
   "outputs": [],
   "source": [
    "\n",
    "from cobra.flux_analysis import (\n",
    "    single_gene_deletion, single_reaction_deletion, double_gene_deletion,\n",
    "    double_reaction_deletion)\n",
    "\n",
    "print('complete model: ', model.slim_optimize())\n",
    "with model:\n",
    "    model.reactions.PFK.knock_out()\n",
    "    print('pfk knocked out: ', model.slim_optimize())"
   ]
  },
  {
   "cell_type": "code",
   "execution_count": null,
   "metadata": {},
   "outputs": [],
   "source": [
    "gene_deletion_results = single_gene_deletion(model)\n",
    "\n",
    "gene_deletion_results"
   ]
  },
  {
   "cell_type": "code",
   "execution_count": null,
   "metadata": {},
   "outputs": [],
   "source": [
    "# essential genes\n",
    "gene_deletion_results[(gene_deletion_results[\"status\"] != \"optimal\") | gene_deletion_results[\"growth\"] < 0.1]"
   ]
  },
  {
   "cell_type": "code",
   "execution_count": null,
   "metadata": {},
   "outputs": [],
   "source": [
    "rxn_deletion_results = single_reaction_deletion(model)\n",
    "rxn_deletion_results"
   ]
  },
  {
   "cell_type": "code",
   "execution_count": null,
   "metadata": {},
   "outputs": [],
   "source": [
    "# essential reactions\n",
    "rxn_deletion_results[(rxn_deletion_results[\"status\"] != \"optimal\") | rxn_deletion_results[\"growth\"] < 0.1]"
   ]
  },
  {
   "cell_type": "code",
   "execution_count": null,
   "metadata": {},
   "outputs": [],
   "source": [
    "del_double_genes = double_gene_deletion(model)\n",
    "del_double_genes[(del_double_genes[\"status\"] != \"optimal\") | del_double_genes[\"growth\"] < 0.1]"
   ]
  },
  {
   "cell_type": "code",
   "execution_count": null,
   "metadata": {},
   "outputs": [],
   "source": [
    "del_double_rxns = double_reaction_deletion(model)\n",
    "del_double_rxns[(del_double_rxns[\"status\"] != \"optimal\") | del_double_rxns[\"growth\"] < 0.1]"
   ]
  },
  {
   "cell_type": "markdown",
   "metadata": {},
   "source": [
    "## Consistency testing"
   ]
  },
  {
   "cell_type": "code",
   "execution_count": null,
   "metadata": {},
   "outputs": [],
   "source": [
    "# find block reactions (cannot generate flux)\n",
    "blocked_reactions = cobra.flux_analysis.find_blocked_reactions(iJO1366)\n",
    "blocked_reactions"
   ]
  },
  {
   "cell_type": "code",
   "execution_count": null,
   "metadata": {},
   "outputs": [],
   "source": [
    "from cobra.flux_analysis import fastcc\n",
    "\n",
    "consistent_iJO1366 = fastcc(iJO1366)\n",
    "consistent_iJO1366"
   ]
  },
  {
   "cell_type": "code",
   "execution_count": null,
   "metadata": {},
   "outputs": [],
   "source": [
    "iJO1366"
   ]
  },
  {
   "cell_type": "code",
   "execution_count": null,
   "metadata": {},
   "outputs": [],
   "source": [
    "len(set([r.id for r in consistent_iJO1366.reactions]) ^ (set([r.id for r in iJO1366.reactions]) - set(blocked_reactions)))"
   ]
  },
  {
   "cell_type": "code",
   "execution_count": null,
   "metadata": {},
   "outputs": [],
   "source": [
    "set([r.id for r in consistent_iJO1366.reactions]) ^ (set([r.id for r in iJO1366.reactions]) - set(blocked_reactions))"
   ]
  }
 ],
 "metadata": {
  "kernelspec": {
   "display_name": "Python 3 (ipykernel)",
   "language": "python",
   "name": "python3"
  },
  "language_info": {
   "codemirror_mode": {
    "name": "ipython",
    "version": 3
   },
   "file_extension": ".py",
   "mimetype": "text/x-python",
   "name": "python",
   "nbconvert_exporter": "python",
   "pygments_lexer": "ipython3",
   "version": "3.8.10"
  }
 },
 "nbformat": 4,
 "nbformat_minor": 2
}
